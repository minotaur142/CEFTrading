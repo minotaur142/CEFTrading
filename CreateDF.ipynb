{
 "cells": [
  {
   "cell_type": "code",
   "execution_count": 18,
   "metadata": {},
   "outputs": [],
   "source": [
    "import pandas as pd\n",
    "import numpy as np\n",
    "import datetime"
   ]
  },
  {
   "cell_type": "code",
   "execution_count": 31,
   "metadata": {},
   "outputs": [],
   "source": [
    "ohlc = pd.read_csv('PML_OHLC.csv').iloc[:,1:]\n",
    "ohlc.Date = pd.to_datetime(ohlc.Date)\n",
    "ohlc = ohlc.sort_values(by='Date')"
   ]
  },
  {
   "cell_type": "code",
   "execution_count": 113,
   "metadata": {},
   "outputs": [],
   "source": [
    "NAV = pd.read_csv('PML_NAV.csv')\n",
    "NAV.Date = pd.to_datetime(NAV.Date)\n",
    "NAV.Date = [i + datetime.timedelta(hours=9,minutes=30) for i in NAV.Date]\n",
    "NAV = NAV.sort_values(by='Date')\n",
    "df = pd.merge_asof(ohlc,NAV,on='Date',direction='nearest').iloc[:,:7]"
   ]
  },
  {
   "cell_type": "code",
   "execution_count": 69,
   "metadata": {},
   "outputs": [],
   "source": [
    "dividends = pd.read_csv('PML_dividends.csv')\n",
    "dividends.Date = pd.to_datetime(dividends.Date)\n",
    "dividends = dividends.sort_values(by='Date')\n",
    "dividends.Date = [i + datetime.timedelta(hours=9,minutes=30) for i in dividends.Date]\n",
    "df = pd.merge_asof(df,dividends,on='Date',direction='nearest')"
   ]
  },
  {
   "cell_type": "code",
   "execution_count": 43,
   "metadata": {},
   "outputs": [],
   "source": [
    "o_date = ohlc.copy()\n",
    "o_date['Date2'] = o_date.Date\n",
    "o_date.drop(['Open','High','Low','Close','Volume'],axis=1,inplace=True)\n",
    "div_dates = dividends[dividends.Date>=datetime.datetime(2006,1,3)].sort_values(by='Date')\n",
    "dates = pd.merge_asof(div_dates,o_date,on='Date',direction='nearest')\n",
    "date = dates.Date2.iloc[0]\n",
    "ind = 0\n",
    "since = []\n",
    "counter = 0\n",
    "flag = False\n",
    "for i in range(df.shape[0]):\n",
    "    if flag == True:\n",
    "        counter += 1\n",
    "    if df.Date.iloc[i] == date:\n",
    "        counter = 0\n",
    "        if ind < 175:\n",
    "            ind += 1\n",
    "            date = dates.Date2.iloc[ind]\n",
    "        else:\n",
    "            flag = True\n",
    "    else:\n",
    "        counter += 1\n",
    "    since.append(counter)\n",
    "til = []\n",
    "rs = [since[i-1] for i in range(len(since)) if since[i]==0]\n",
    "til = []\n",
    "for i in rs:\n",
    "    til += list(range(i+1))[::-1]\n",
    "til += [np.nan]*(df.shape[0]-len(til))\n",
    "df['since'] = since\n",
    "df['until'] = til"
   ]
  },
  {
   "cell_type": "code",
   "execution_count": 44,
   "metadata": {},
   "outputs": [],
   "source": [
    "df = df.set_index('Date')\n",
    "close_prices = df.Close.copy()\n",
    "for col in ['Open', 'High', 'Low', 'Close', 'Volume']:\n",
    "    df[col] = df[col].diff()\n",
    "df = df.dropna()\n",
    "close_prices = close_prices.loc[df.index]\n",
    "cols = ['Open', 'High', 'Low', 'Close', 'Volume', 'Dividends', 'until',\n",
    "       'NAV', 'since']\n",
    "df = df[cols]"
   ]
  }
 ],
 "metadata": {
  "kernelspec": {
   "display_name": "Python 3",
   "language": "python",
   "name": "python3"
  },
  "language_info": {
   "codemirror_mode": {
    "name": "ipython",
    "version": 3
   },
   "file_extension": ".py",
   "mimetype": "text/x-python",
   "name": "python",
   "nbconvert_exporter": "python",
   "pygments_lexer": "ipython3",
   "version": "3.7.3"
  }
 },
 "nbformat": 4,
 "nbformat_minor": 2
}
